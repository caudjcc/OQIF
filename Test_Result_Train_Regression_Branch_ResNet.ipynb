{
 "cells": [
  {
   "cell_type": "code",
   "execution_count": 1,
   "id": "4e476e28-8b50-4d50-aac6-582af7f910da",
   "metadata": {},
   "outputs": [],
   "source": [
    "import os\n",
    "import json\n",
    "import h5py\n",
    "import torch\n",
    "import numpy as np\n",
    "from torch import nn\n",
    "from torch.utils.data import DataLoader\n",
    "from torchvision.transforms import transforms\n",
    "from torchvision import models"
   ]
  },
  {
   "cell_type": "code",
   "execution_count": 2,
   "id": "e03c0c0f-b028-4b36-becc-3edf44c81287",
   "metadata": {},
   "outputs": [],
   "source": [
    "def loadJson(file_name):\n",
    "    '''简易加载json'''\n",
    "    with open(file_name,'r') as f:\n",
    "        js = json.load(f)\n",
    "    return js\n",
    "\n",
    "def saveJson(file, file_name):\n",
    "    '''简易保存json'''\n",
    "    with open(file_name,'w') as f:\n",
    "        json.dump(file,f)"
   ]
  },
  {
   "cell_type": "code",
   "execution_count": 3,
   "id": "9f19b58d-9814-406e-9d33-474a8f500386",
   "metadata": {},
   "outputs": [],
   "source": [
    "class ToTensor():\n",
    "    '''\n",
    "    转为tensor，并且转移到显存中（如果使用显卡）\n",
    "    20220610 转到显卡中无法使用多进程\n",
    "    '''\n",
    "    def __init__(self, device):\n",
    "        self.device = device\n",
    "        self.device = 'cpu'\n",
    "    \n",
    "    def __call__(self, image:np.ndarray, label:float):\n",
    "        image = image.transpose(2,0,1)\n",
    "        image = torch.from_numpy(image).float().to(self.device)\n",
    "        label = torch.tensor(label).float().to(self.device)\n",
    "        return image, label\n",
    "\n",
    "class CropAndResize():\n",
    "    '''\n",
    "    中心裁剪+resize\n",
    "    '''\n",
    "    def __init__(self, size:int = 96):\n",
    "        '''\n",
    "        @param:p:水平翻转和竖直翻转概率\n",
    "        '''\n",
    "        self.size = size\n",
    "    \n",
    "    def __call__(self, image:torch.tensor, label:torch.tensor):\n",
    "        '''\n",
    "        @param:image:图像\n",
    "        @param:label:标签\n",
    "        '''\n",
    "        image = transforms.F.center_crop(image, min(image.shape[-2:]))\n",
    "        image = transforms.F.resize(image, self.size)\n",
    "        return image, label"
   ]
  },
  {
   "cell_type": "code",
   "execution_count": 4,
   "id": "b18c7b85-f7b3-4086-9267-d321dc9e7ca6",
   "metadata": {},
   "outputs": [],
   "source": [
    "class MyDataset():\n",
    "    '''\n",
    "    用于为模型准备数据\n",
    "    '''\n",
    "    def __init__(self, anno, phase, keep_ratio, transforms= None):\n",
    "        '''\n",
    "        @param:fns:样本名称\n",
    "        '''\n",
    "        self.anno  = anno\n",
    "        self.phase = phase\n",
    "        self.keep_ratio = keep_ratio\n",
    "        self.size = len(anno['annotations'])\n",
    "        np.random.shuffle(self.anno['annotations'])\n",
    "        self.anno['annotations'] = self.anno['annotations'][:int(keep_ratio*self.size)]\n",
    "        self.size = len(anno['annotations'])\n",
    "        self.transforms = transforms\n",
    "        \n",
    "    def __call__(self):\n",
    "        print('使用__getitem__(idx)获取样本号')\n",
    "    \n",
    "    def __len__(self):\n",
    "        '''\n",
    "        返回样本长度\n",
    "        '''\n",
    "        return self.size\n",
    "    \n",
    "    \n",
    "    def __getitem__(self, idx):\n",
    "        '''\n",
    "        定义了__getitem__魔法函数，该类就可以下标操作了：[]\n",
    "        '''\n",
    "        anno = self.anno['annotations'][idx]\n",
    "        image_id = anno['image_id']\n",
    "        c,r,w,h = anno['bbox']\n",
    "        label = anno['numrical_label']\n",
    "        image_name = [d['file_name'] for d in self.anno['images'] if d['id'] == image_id][0]\n",
    "        \n",
    "        with h5py.File(os.path.join(SAVEROOT, self.phase, image_name),'r') as f:\n",
    "            image = f['image'][r:r+h,c:c+w,:].astype(np.float32)\n",
    "            \n",
    "        if self.transforms:\n",
    "            for trsf in self.transforms:\n",
    "                image,label = trsf(image,label)\n",
    "        return image, label.unsqueeze(0)/100"
   ]
  },
  {
   "cell_type": "code",
   "execution_count": 5,
   "id": "302f9e5c-0010-4094-84c3-b0e607456643",
   "metadata": {},
   "outputs": [],
   "source": [
    "device = \"cuda:0\"\n",
    "path_test = '../data/anno/coco_512/test.json'\n",
    "anno_test = loadJson(path_test)\n",
    "SAVEROOT = '../data/anno/coco_512'"
   ]
  },
  {
   "cell_type": "code",
   "execution_count": 6,
   "id": "41f0be26-c14a-4dc9-b6d4-f04c1eb42fc5",
   "metadata": {},
   "outputs": [],
   "source": [
    "test_transforms  = [ToTensor(device), CropAndResize(96)]\n",
    "test_set  = MyDataset(anno_test , 'test',  1, test_transforms)\n",
    "test_loader = DataLoader(test_set,\n",
    "                          batch_size=512,\n",
    "                          shuffle=False,\n",
    "                          num_workers=6,\n",
    "                          pin_memory=True,\n",
    "                          drop_last=True)"
   ]
  },
  {
   "cell_type": "code",
   "execution_count": 34,
   "id": "47a0944c-ef57-4c5d-b720-c6d770e85e11",
   "metadata": {},
   "outputs": [
    {
     "name": "stdout",
     "output_type": "stream",
     "text": [
      "*** model reg 加载完毕 ***\n"
     ]
    }
   ],
   "source": [
    "model_path = '../models_reg/models_18_0923/2023092319_Loss_0.003006.pt'\n",
    "model_reg = models.resnet18(weights=None)\n",
    "model_reg.conv1 = nn.Conv2d(125, 64, kernel_size=(7, 7), stride=(2, 2), padding=(3, 3), bias=False)\n",
    "model_reg.fc = nn.Sequential(nn.Linear(512,1),nn.Sigmoid())\n",
    "model_reg.to(device)\n",
    "model_reg.load_state_dict(torch.load(model_path))\n",
    "model_reg.eval()\n",
    "print('*** model reg 加载完毕 ***')"
   ]
  },
  {
   "cell_type": "code",
   "execution_count": 35,
   "id": "ceb8127f-e319-4c6b-8c47-166e77fcc38f",
   "metadata": {},
   "outputs": [
    {
     "name": "stderr",
     "output_type": "stream",
     "text": [
      "/HOME/scw6493/.conda/envs/cau/lib/python3.10/site-packages/torchvision/transforms/functional.py:1603: UserWarning: The default value of the antialias parameter of all the resizing transforms (Resize(), RandomResizedCrop(), etc.) will change from None to True in v0.17, in order to be consistent across the PIL and Tensor backends. To suppress this warning, directly pass antialias=True (recommended, future default), antialias=None (current default, which means False for Tensors and True for PIL), or antialias=False (only works on Tensors - PIL will still use antialiasing). This also applies if you are using the inference transforms from the models weights: update the call to weights.transforms(antialias=True).\n",
      "  warnings.warn(\n",
      "/HOME/scw6493/.conda/envs/cau/lib/python3.10/site-packages/torchvision/transforms/functional.py:1603: UserWarning: The default value of the antialias parameter of all the resizing transforms (Resize(), RandomResizedCrop(), etc.) will change from None to True in v0.17, in order to be consistent across the PIL and Tensor backends. To suppress this warning, directly pass antialias=True (recommended, future default), antialias=None (current default, which means False for Tensors and True for PIL), or antialias=False (only works on Tensors - PIL will still use antialiasing). This also applies if you are using the inference transforms from the models weights: update the call to weights.transforms(antialias=True).\n",
      "  warnings.warn(\n",
      "/HOME/scw6493/.conda/envs/cau/lib/python3.10/site-packages/torchvision/transforms/functional.py:1603: UserWarning: The default value of the antialias parameter of all the resizing transforms (Resize(), RandomResizedCrop(), etc.) will change from None to True in v0.17, in order to be consistent across the PIL and Tensor backends. To suppress this warning, directly pass antialias=True (recommended, future default), antialias=None (current default, which means False for Tensors and True for PIL), or antialias=False (only works on Tensors - PIL will still use antialiasing). This also applies if you are using the inference transforms from the models weights: update the call to weights.transforms(antialias=True).\n",
      "  warnings.warn(\n",
      "/HOME/scw6493/.conda/envs/cau/lib/python3.10/site-packages/torchvision/transforms/functional.py:1603: UserWarning: The default value of the antialias parameter of all the resizing transforms (Resize(), RandomResizedCrop(), etc.) will change from None to True in v0.17, in order to be consistent across the PIL and Tensor backends. To suppress this warning, directly pass antialias=True (recommended, future default), antialias=None (current default, which means False for Tensors and True for PIL), or antialias=False (only works on Tensors - PIL will still use antialiasing). This also applies if you are using the inference transforms from the models weights: update the call to weights.transforms(antialias=True).\n",
      "  warnings.warn(\n",
      "/HOME/scw6493/.conda/envs/cau/lib/python3.10/site-packages/torchvision/transforms/functional.py:1603: UserWarning: The default value of the antialias parameter of all the resizing transforms (Resize(), RandomResizedCrop(), etc.) will change from None to True in v0.17, in order to be consistent across the PIL and Tensor backends. To suppress this warning, directly pass antialias=True (recommended, future default), antialias=None (current default, which means False for Tensors and True for PIL), or antialias=False (only works on Tensors - PIL will still use antialiasing). This also applies if you are using the inference transforms from the models weights: update the call to weights.transforms(antialias=True).\n",
      "  warnings.warn(\n",
      "/HOME/scw6493/.conda/envs/cau/lib/python3.10/site-packages/torchvision/transforms/functional.py:1603: UserWarning: The default value of the antialias parameter of all the resizing transforms (Resize(), RandomResizedCrop(), etc.) will change from None to True in v0.17, in order to be consistent across the PIL and Tensor backends. To suppress this warning, directly pass antialias=True (recommended, future default), antialias=None (current default, which means False for Tensors and True for PIL), or antialias=False (only works on Tensors - PIL will still use antialiasing). This also applies if you are using the inference transforms from the models weights: update the call to weights.transforms(antialias=True).\n",
      "  warnings.warn(\n"
     ]
    },
    {
     "name": "stdout",
     "output_type": "stream",
     "text": [
      " testing on batch 14"
     ]
    }
   ],
   "source": [
    "y = []\n",
    "y_hat = []\n",
    "with torch.no_grad():\n",
    "    for idx, (inputs, labels) in enumerate(test_loader):\n",
    "        print('\\r','testing on batch {}'.format(idx), end= '')\n",
    "        inputs = inputs.to(device)\n",
    "        labels = labels.to(device) \n",
    "        preds = model_reg(inputs)\n",
    "        y.append(labels)\n",
    "        y_hat.append(preds)\n",
    "y = torch.cat(y).cpu().numpy() * 100\n",
    "y_hat = torch.cat(y_hat).cpu().numpy() * 100"
   ]
  },
  {
   "cell_type": "code",
   "execution_count": 22,
   "id": "d4a795dc-6eb7-4aff-9d5f-9699c654aeba",
   "metadata": {},
   "outputs": [],
   "source": []
  },
  {
   "cell_type": "code",
   "execution_count": 23,
   "id": "e3a98976-dae5-4ba2-89ae-f9d668f56c1f",
   "metadata": {},
   "outputs": [],
   "source": []
  },
  {
   "cell_type": "code",
   "execution_count": 11,
   "id": "1fcfbc48-8c8c-453e-b955-d81d01daa4f9",
   "metadata": {},
   "outputs": [],
   "source": [
    "import matplotlib.pyplot as plt"
   ]
  },
  {
   "cell_type": "code",
   "execution_count": 36,
   "id": "96ba1bfe-b2d0-43ef-867a-7f3cca67d01a",
   "metadata": {},
   "outputs": [
    {
     "name": "stdout",
     "output_type": "stream",
     "text": [
      "resnet18\n",
      "r2: 0.8954904791144849\n",
      "mae: 1.9302284\n",
      "mse: 17.85153\n",
      "rmse: 4.225107108118473\n"
     ]
    }
   ],
   "source": [
    "# resnet18\n",
    "r2 = np.corrcoef(y.ravel(),y_hat.ravel())[0,1]\n",
    "mean = abs(y - y_hat).mean()\n",
    "mse = ((y-y_hat)**2).mean()\n",
    "rmse = mse**0.5\n",
    "print(\"resnet18\")\n",
    "print(\"r2:\", r2)\n",
    "print(\"mae:\", mean)\n",
    "print(\"mse:\", mse)\n",
    "print(\"rmse:\",rmse)"
   ]
  },
  {
   "cell_type": "code",
   "execution_count": 33,
   "id": "eb029b6a-5a70-473d-8bc9-17d296aa84ec",
   "metadata": {},
   "outputs": [
    {
     "data": {
      "text/plain": [
       "<matplotlib.collections.PathCollection at 0x2b3cd58b6380>"
      ]
     },
     "execution_count": 33,
     "metadata": {},
     "output_type": "execute_result"
    },
    {
     "data": {
      "image/png": "[encoded data removed]",
      "text/plain": [
       "<Figure size 640x480 with 1 Axes>"
      ]
     },
     "metadata": {},
     "output_type": "display_data"
    }
   ],
   "source": [
    "plt.scatter(y, y_hat,s=1)"
   ]
  },
  {
   "cell_type": "code",
   "execution_count": 31,
   "id": "eb35464e-4e7c-4403-bdce-3a8a19cb8892",
   "metadata": {},
   "outputs": [
    {
     "name": "stdout",
     "output_type": "stream",
     "text": [
      "resnet34\n",
      "r2: 0.846737954770702\n",
      "mae: 2.6863134\n",
      "mse: 26.976961\n",
      "rmse: 5.193935033850949\n"
     ]
    }
   ],
   "source": [
    "# resnet34\n",
    "r2 = np.corrcoef(y.ravel(),y_hat.ravel())[0,1]\n",
    "mean = abs(y - y_hat).mean()\n",
    "mse = ((y-y_hat)**2).mean()\n",
    "rmse = mse**0.5\n",
    "print(\"resnet34\")\n",
    "print(\"r2:\", r2)\n",
    "print(\"mae:\", mean)\n",
    "print(\"mse:\", mse)\n",
    "print(\"rmse:\",rmse)"
   ]
  },
  {
   "cell_type": "code",
   "execution_count": 40,
   "id": "1c7a2ab8-3893-4b8e-8f1c-f9ee182e4961",
   "metadata": {},
   "outputs": [
    {
     "data": {
      "text/plain": [
       "<matplotlib.collections.PathCollection at 0x2b3cd5c226b0>"
      ]
     },
     "execution_count": 40,
     "metadata": {},
     "output_type": "execute_result"
    },
    {
     "data": {
      "image/png": "[encoded data removed]",
      "text/plain": [
       "<Figure size 640x480 with 1 Axes>"
      ]
     },
     "metadata": {},
     "output_type": "display_data"
    }
   ],
   "source": [
    "plt.scatter(y, y_hat,s=1)"
   ]
  },
  {
   "cell_type": "code",
   "execution_count": 27,
   "id": "f0f3ab2a-b78a-4300-b92b-9ffdbeabd6ae",
   "metadata": {},
   "outputs": [
    {
     "name": "stdout",
     "output_type": "stream",
     "text": [
      "resnet50\n",
      "r2: 0.8376762973709394\n",
      "mae: 1.9360768\n",
      "mse: 26.898342\n",
      "rmse: 5.186361164879318\n"
     ]
    }
   ],
   "source": [
    "# resnet50\n",
    "r2 = np.corrcoef(y.ravel(),y_hat.ravel())[0,1]\n",
    "mean = abs(y - y_hat).mean()\n",
    "mse = ((y-y_hat)**2).mean()\n",
    "rmse = mse**0.5\n",
    "print(\"resnet50\")\n",
    "print(\"r2:\", r2)\n",
    "print(\"mae:\", mean)\n",
    "print(\"mse:\", mse)\n",
    "print(\"rmse:\",rmse)"
   ]
  },
  {
   "cell_type": "code",
   "execution_count": 12,
   "id": "8f54ddd9-4063-4369-b13f-b4a4aab11324",
   "metadata": {},
   "outputs": [
    {
     "data": {
      "text/plain": [
       "<matplotlib.collections.PathCollection at 0x2acb5cc514e0>"
      ]
     },
     "execution_count": 12,
     "metadata": {},
     "output_type": "execute_result"
    },
    {
     "data": {
      "image/png": "[encoded data removed]",
      "text/plain": [
       "<Figure size 640x480 with 1 Axes>"
      ]
     },
     "metadata": {},
     "output_type": "display_data"
    }
   ],
   "source": [
    "plt.scatter(y, y_hat,s=1)"
   ]
  },
  {
   "cell_type": "code",
   "execution_count": 22,
   "id": "1cff0841-61a1-4b6c-b5be-e3489248245d",
   "metadata": {},
   "outputs": [
    {
     "name": "stdout",
     "output_type": "stream",
     "text": [
      "resnet101\n",
      "r2: 0.8346514400000584\n",
      "mae: 2.0546982\n",
      "mse: 28.272205\n",
      "rmse: 5.317161399918494\n"
     ]
    }
   ],
   "source": [
    "# resnet101\n",
    "r2 = np.corrcoef(y.ravel(),y_hat.ravel())[0,1]\n",
    "mean = abs(y - y_hat).mean()\n",
    "mse = ((y-y_hat)**2).mean()\n",
    "rmse = mse**0.5\n",
    "print(\"resnet101\")\n",
    "print(\"r2:\", r2)\n",
    "print(\"mae:\", mean)\n",
    "print(\"mse:\", mse)\n",
    "print(\"rmse:\",rmse)"
   ]
  },
  {
   "cell_type": "code",
   "execution_count": 16,
   "id": "882d9188-e74a-4704-a112-0ec9667446f2",
   "metadata": {},
   "outputs": [
    {
     "data": {
      "text/plain": [
       "<matplotlib.collections.PathCollection at 0x2acb52b32590>"
      ]
     },
     "execution_count": 16,
     "metadata": {},
     "output_type": "execute_result"
    },
    {
     "data": {
      "image/png": "[encoded data removed]",
      "text/plain": [
       "<Figure size 640x480 with 1 Axes>"
      ]
     },
     "metadata": {},
     "output_type": "display_data"
    }
   ],
   "source": [
    "plt.scatter(y, y_hat,s=1)"
   ]
  },
  {
   "cell_type": "code",
   "execution_count": null,
   "id": "9d8c3727-6f63-45a8-9894-2f25a0bce951",
   "metadata": {},
   "outputs": [],
   "source": []
  },
  {
   "cell_type": "code",
   "execution_count": null,
   "id": "c2d8a6d5-59f1-4a2e-b328-c3103bccb5c3",
   "metadata": {},
   "outputs": [],
   "source": []
  },
  {
   "cell_type": "code",
   "execution_count": null,
   "id": "0f13df59-78a9-4f06-86a0-0aa4527a1c6a",
   "metadata": {},
   "outputs": [],
   "source": []
  },
  {
   "cell_type": "code",
   "execution_count": null,
   "id": "09615781-f7a3-4737-a4e1-f5b87a41de0a",
   "metadata": {},
   "outputs": [],
   "source": []
  },
  {
   "cell_type": "code",
   "execution_count": null,
   "id": "32ef57d2-c697-491e-ada3-503d6d0ecb24",
   "metadata": {},
   "outputs": [],
   "source": []
  }
 ],
 "metadata": {
  "kernelspec": {
   "display_name": "cau",
   "language": "python",
   "name": "cau"
  },
  "language_info": {
   "codemirror_mode": {
    "name": "ipython",
    "version": 3
   },
   "file_extension": ".py",
   "mimetype": "text/x-python",
   "name": "python",
   "nbconvert_exporter": "python",
   "pygments_lexer": "ipython3",
   "version": "3.10.12"
  }
 },
 "nbformat": 4,
 "nbformat_minor": 5
}
